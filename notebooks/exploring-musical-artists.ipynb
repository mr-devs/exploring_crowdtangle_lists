{
 "cells": [
  {
   "cell_type": "markdown",
   "metadata": {},
   "source": [
    "### Functions for later..."
   ]
  },
  {
   "cell_type": "code",
   "execution_count": 15,
   "metadata": {},
   "outputs": [],
   "source": [
    "import datetime\n",
    "import os\n",
    "import sys\n",
    "sys.path.insert(0,\"../code\")\n",
    "\n",
    "import altair as alt\n",
    "alt.data_transformers.disable_max_rows()\n",
    "import pandas as pd\n",
    "\n",
    "from collections import Counter, defaultdict\n",
    "from copy import deepcopy\n",
    "\n",
    "from nltk.corpus import stopwords\n",
    "s_words = set(stopwords.words())\n",
    "\n",
    "from ct_helpers import ct_get_lists, download_posts\n",
    "from fb_model import FbIgPost\n",
    "\n",
    "\n",
    "def clean_text(text):\n",
    "    \"\"\"\n",
    "    A convenience function for cleantext.clean because it has an ugly amount\n",
    "    of parameters.\n",
    "    \"\"\"\n",
    "    return clean(\n",
    "        text,\n",
    "        fix_unicode=True,  # fix various unicode errors\n",
    "        to_ascii=True,  # transliterate to closest ASCII representation\n",
    "        lower=True,  # lowercase text\n",
    "        no_line_breaks=True,  # fully strip line breaks as opposed to only normalizing them\n",
    "        no_urls=True,  # replace all URLs with a special token\n",
    "        no_emoji=True,  # remove emojis\n",
    "        no_emails=True,  # replace all email addresses with a special token\n",
    "        no_phone_numbers=True,  # replace all phone numbers with a special token\n",
    "        no_numbers=False,  # replace all numbers with a special token\n",
    "        no_digits=False,  # replace all digits with a special token\n",
    "        no_currency_symbols=False,  # replace all currency symbols with a special token\n",
    "        no_punct=True,  # remove punctuations\n",
    "        replace_with_punct=\"\",  # instead of removing punctuations you may replace them\n",
    "        replace_with_url=\"\",\n",
    "        replace_with_email=\"\",\n",
    "        replace_with_phone_number=\"<PHONE>\",\n",
    "        replace_with_number=\"<NUMBER>\",\n",
    "        replace_with_digit=\"0\",\n",
    "        replace_with_currency_symbol=\"<CUR>\",\n",
    "        lang=\"en\",  # set to 'de' for German special handling\n",
    "    )"
   ]
  },
  {
   "cell_type": "code",
   "execution_count": null,
   "metadata": {},
   "outputs": [],
   "source": []
  },
  {
   "cell_type": "code",
   "execution_count": null,
   "metadata": {},
   "outputs": [],
   "source": []
  },
  {
   "cell_type": "code",
   "execution_count": null,
   "metadata": {},
   "outputs": [],
   "source": []
  },
  {
   "cell_type": "code",
   "execution_count": null,
   "metadata": {},
   "outputs": [],
   "source": []
  },
  {
   "cell_type": "code",
   "execution_count": null,
   "metadata": {},
   "outputs": [],
   "source": []
  },
  {
   "cell_type": "code",
   "execution_count": null,
   "metadata": {},
   "outputs": [],
   "source": []
  },
  {
   "cell_type": "code",
   "execution_count": null,
   "metadata": {},
   "outputs": [],
   "source": []
  },
  {
   "cell_type": "markdown",
   "metadata": {},
   "source": [
    "---\n",
    "\n",
    "#  🎤 🎸 🥁 🎹 🎺 Exploring musical artists Facebook data 🎤 🎸 🥁 🎹 🎺\n",
    "\n",
    "In this notebook, we'll walk through how to download and explore posts from a specified list of Facebook accounts. This list will have to be created first with the Facebook-owned insights tool, [CrowdTangle](https://crowdtangle.com/).\n",
    "\n",
    "Note: There is no cost for using CrowdTangle, but it is only available to select Facebook publishing partners and academics. Check out their [FAQs](https://help.crowdtangle.com/en/collections/41331-faqs-and-troubleshooting) for more information."
   ]
  },
  {
   "cell_type": "markdown",
   "metadata": {},
   "source": [
    "---\n",
    "\n",
    "### [Take me to the CrowdTangle Dashboard](https://apps.crowdtangle.com/socialmediamanipulationclass)\n",
    "### Part 1: Exploring the dashboard.\n",
    "1. Lists/searches\n",
    "2. Intelligence\n",
    "3. Live displays\n",
    "\n",
    "---"
   ]
  },
  {
   "cell_type": "markdown",
   "metadata": {},
   "source": [
    "### Part 2: Two ways to get the data from the dashboard\n",
    "\n",
    "1. Using the dashboard\n",
    "2. Using a little code (API) <--- preferred 🤘"
   ]
  },
  {
   "cell_type": "markdown",
   "metadata": {},
   "source": [
    "## Part 3: Exploring the posts\n",
    "\n",
    "1. **Types of posts sent**\n",
    "2. **Words used most**\n",
    "3. **Most basic interactions**:\n",
    "    1. likes\n",
    "    2. shares\n",
    "    3. comments\n",
    "\n",
    "4. **Most emojis**:\n",
    "    1. wows\n",
    "    2. hahas\n",
    "    3. sad\n",
    "    4. angry\n",
    "    5. thankful\n",
    "    6. care\n",
    "5. **Trajectory of most popular post (likes)**"
   ]
  },
  {
   "cell_type": "markdown",
   "metadata": {},
   "source": [
    "## Get the data for all musical artists\n",
    "---"
   ]
  },
  {
   "cell_type": "markdown",
   "metadata": {},
   "source": [
    "### 1. Get the list ID"
   ]
  },
  {
   "cell_type": "code",
   "execution_count": null,
   "metadata": {},
   "outputs": [],
   "source": [
    "# Load the CT API token\n",
    "api_token = os.environ.get(\"CLASS_CT_TOKEN\")\n",
    "\n",
    "# Returns all lists in the dashboard\n",
    "list_records = ct_get_lists(api_token)\n",
    "\n",
    "my_list_name = \"Musical Artists for Social Media Manipulation\"\n",
    "\n",
    "# Extract the list ID number for that matches my list name\n",
    "for record in list_records[\"result\"]['lists']:\n",
    "    id_number = record[\"id\"]\n",
    "    list_title = record[\"title\"]\n",
    "    \n",
    "    if list_title == my_list_name:\n",
    "        print(\"Found the list ID number.\")\n",
    "        break\n",
    "\n",
    "print(f\"List ID #: {id_number}\")"
   ]
  },
  {
   "cell_type": "markdown",
   "metadata": {},
   "source": [
    "### Set start and end date"
   ]
  },
  {
   "cell_type": "code",
   "execution_count": null,
   "metadata": {},
   "outputs": [],
   "source": [
    "# Set up the time between which we'll retrieve data\n",
    "\n",
    "num_days_back = 30*6\n",
    "\n",
    "end_dt = datetime.datetime.today().date()\n",
    "end_time = end_dt.strftime(\"%Y-%m-%d\")\n",
    "start_time = (\n",
    "    end_dt - datetime.timedelta(days=num_days_back)\n",
    ").strftime(\"%Y-%m-%d\")\n",
    "\n",
    "print(f\"We're going to search {num_days_back} days in the past\")\n",
    "print(f\"Start time: {start_time}\")\n",
    "print(f\"End time  : {end_time}\")"
   ]
  },
  {
   "cell_type": "code",
   "execution_count": null,
   "metadata": {
    "scrolled": true
   },
   "outputs": [],
   "source": [
    "posts = download_posts(\n",
    "    crowdtangle_list_id=id_number, #<---- The number associated with out list\n",
    "    start=start_time,\n",
    "    end=end_time,\n",
    "    max_queries=100,               #<---- Make no more than this number of queries\n",
    "    api_token=api_token            #<---- API token for access\n",
    ")"
   ]
  },
  {
   "cell_type": "code",
   "execution_count": null,
   "metadata": {},
   "outputs": [],
   "source": []
  },
  {
   "cell_type": "code",
   "execution_count": null,
   "metadata": {},
   "outputs": [],
   "source": []
  },
  {
   "cell_type": "code",
   "execution_count": null,
   "metadata": {},
   "outputs": [],
   "source": []
  },
  {
   "cell_type": "code",
   "execution_count": null,
   "metadata": {},
   "outputs": [],
   "source": []
  },
  {
   "cell_type": "code",
   "execution_count": null,
   "metadata": {},
   "outputs": [],
   "source": []
  },
  {
   "cell_type": "code",
   "execution_count": null,
   "metadata": {},
   "outputs": [],
   "source": []
  },
  {
   "cell_type": "code",
   "execution_count": null,
   "metadata": {},
   "outputs": [],
   "source": []
  },
  {
   "attachments": {},
   "cell_type": "markdown",
   "metadata": {},
   "source": [
    "# Questions for candy!\n",
    "# 🍫🍬🍫🍬🍫🍬🍫🍬🍫🍬🍫🍬🍫🍬🍫🍫🍬🍫🍬🍫🍬🍫🍬🍫🍬🍫🍬🍫🍬🍫\n",
    "\n",
    "![display image](../gifs/despicable-me-candy.gif)\n",
    "![display image](../gifs/homer-sweet-sweet-candy.gif)\n",
    "![display image](../gifs/psycho-oprah-candy.gif)\n",
    "\n",
    "# 🍫🍬🍫🍬🍫🍬🍫🍬🍫🍬🍫🍬🍫🍬🍫🍫🍬🍫🍬🍫🍬🍫🍬🍫🍬🍫🍬🍫🍬🍫\n",
    "\n",
    "- ## What artist earned the **most interactions overall**?\n",
    "- ## What type of interaction typically contributes the most to an artists interactions?\n",
    "- ## Artist with the most emojis total for ➡️ ❤️😡😆\n",
    "    - Which artist earned the most **love** emojis (total)?\n",
    "    - Which artist earned the most **angry** emojis (total)?\n",
    "    - Which artist earned the most **haha** emojis (total)?\n",
    "- ## Artist with the most emojis from a single post ➡️ ❤️😡😆\n",
    "    - Which artist earned earned the most **love** in a (single post)?\n",
    "    - Which artist earned the most **angry** emojis in a (single post)?\n",
    "    - Which artist earned the most **haha** emojis in a (single post)?\n",
    "\n",
    "---\n",
    "---\n",
    "---\n",
    "---"
   ]
  },
  {
   "cell_type": "markdown",
   "metadata": {},
   "source": [
    "### What does the data look like?"
   ]
  },
  {
   "cell_type": "code",
   "execution_count": null,
   "metadata": {},
   "outputs": [],
   "source": [
    "type(posts)"
   ]
  },
  {
   "cell_type": "code",
   "execution_count": null,
   "metadata": {},
   "outputs": [],
   "source": [
    "len(posts)"
   ]
  },
  {
   "cell_type": "code",
   "execution_count": null,
   "metadata": {},
   "outputs": [],
   "source": [
    "posts[0]"
   ]
  },
  {
   "cell_type": "code",
   "execution_count": null,
   "metadata": {},
   "outputs": [],
   "source": [
    "post_objs = [FbIgPost(post) for post in posts] "
   ]
  },
  {
   "cell_type": "code",
   "execution_count": null,
   "metadata": {},
   "outputs": [],
   "source": []
  },
  {
   "cell_type": "markdown",
   "metadata": {},
   "source": [
    "### Organize the data a little bit..."
   ]
  },
  {
   "cell_type": "code",
   "execution_count": null,
   "metadata": {},
   "outputs": [],
   "source": [
    "text_data = []\n",
    "performance_data = []\n",
    "\n",
    "for post in post_objs:\n",
    "    \n",
    "    # Handle all posts\n",
    "    base_record = {\n",
    "        \"id\" : post.get_post_ID(),\n",
    "        \"username\" : post.get_value(['account','name']),\n",
    "        \"date\" : post.post_object[\"date\"],\n",
    "        \"link\" : post.get_link_to_post()\n",
    "    }\n",
    "    text_record = deepcopy(base_record)\n",
    "    stat_record = deepcopy(base_record)\n",
    "    \n",
    "    \n",
    "    text_info = {\n",
    "        \"text\" : post.get_text(),\n",
    "        \"post_type\" : post.get_post_type(),\n",
    "    }\n",
    "    text_record.update(text_info)\n",
    "    text_data.append(text_record)\n",
    "    \n",
    "    \n",
    "    stat_info = post.get_value([\"statistics\", \"actual\"])\n",
    "    stat_record.update(stat_info)\n",
    "    performance_data.append(stat_record)"
   ]
  },
  {
   "cell_type": "code",
   "execution_count": null,
   "metadata": {},
   "outputs": [],
   "source": [
    "stats_df = pd.DataFrame.from_records(performance_data)\n",
    "stats_df"
   ]
  },
  {
   "cell_type": "code",
   "execution_count": null,
   "metadata": {},
   "outputs": [],
   "source": []
  },
  {
   "cell_type": "markdown",
   "metadata": {},
   "source": [
    "# Q1: What artist earned the **most interactions overall**?"
   ]
  },
  {
   "cell_type": "code",
   "execution_count": null,
   "metadata": {},
   "outputs": [],
   "source": [
    "# These are the columns we want to count\n",
    "responses = [\n",
    "    \"likeCount\",\n",
    "    \"shareCount\",\n",
    "    \"commentCount\",\n",
    "    \"wowCount\", \n",
    "    \"hahaCount\",\n",
    "    \"sadCount\", \n",
    "    \"careCount\"\n",
    "]\n",
    "\n",
    "# Calculate the total interactions per emoji option\n",
    "total_response_counts = stats_df.groupby('username')[responses].sum().reset_index()\n",
    "total_response_counts.head(2)"
   ]
  },
  {
   "cell_type": "code",
   "execution_count": null,
   "metadata": {},
   "outputs": [],
   "source": [
    "# Take the total across the rows for each artist...\n",
    "total_interactions = pd.DataFrame(total_response_counts[responses].sum(axis=1), columns=['counts'])\n",
    "total_interactions[\"username\"] = total_response_counts['username']"
   ]
  },
  {
   "cell_type": "code",
   "execution_count": null,
   "metadata": {},
   "outputs": [],
   "source": [
    "bars = alt.Chart(\n",
    "    total_interactions,\n",
    "    title=\"Most interactions total 🤑\"\n",
    ").mark_bar(color='firebrick').encode(\n",
    "    x = alt.X(\"counts:Q\", title=\"Total interactions\"),\n",
    "    y = alt.Y(\"username:N\", sort=\"-x\", title=None)\n",
    ").properties(\n",
    "    width=700,\n",
    "    height=400\n",
    ")\n",
    "\n",
    "\n",
    "text = alt.Chart(\n",
    "    total_interactions\n",
    ").mark_text(align='left', fontWeight=\"bold\", fontSize=15).encode(\n",
    "    x = alt.X(\"counts:Q\", title=\"Total interactions\"),\n",
    "    y = alt.Y(\"username:N\", sort=\"-x\", title=None),\n",
    "    text = alt.Text(\"counts:N\", format=',')\n",
    ").properties(\n",
    "    width=700,\n",
    "    height=400\n",
    ")\n",
    "\n",
    "alt.layer(bars,text).configure_axis(\n",
    "    titleFontSize=15,\n",
    "    labelFontSize=15\n",
    ").configure_legend(\n",
    "    titleFontSize=15,\n",
    "    labelFontSize=15\n",
    ").configure_title(\n",
    "    fontSize=20,\n",
    ")"
   ]
  },
  {
   "cell_type": "code",
   "execution_count": null,
   "metadata": {},
   "outputs": [],
   "source": []
  },
  {
   "cell_type": "code",
   "execution_count": null,
   "metadata": {},
   "outputs": [],
   "source": []
  },
  {
   "cell_type": "markdown",
   "metadata": {},
   "source": [
    "# Q2: What type of interaction typically contributes the most to an artists interactions? "
   ]
  },
  {
   "cell_type": "code",
   "execution_count": null,
   "metadata": {},
   "outputs": [],
   "source": [
    "props = total_response_counts[responses].divide(, axis=0)\n",
    "props['username'] = total_response_counts['username'].copy()"
   ]
  },
  {
   "cell_type": "code",
   "execution_count": null,
   "metadata": {},
   "outputs": [],
   "source": [
    "alt.Chart(\n",
    "    props.melt(id_vars='username'),\n",
    "    title = \"Interaction percentage breakdown\"\n",
    ").mark_bar().encode(\n",
    "    x = alt.X(\"value:Q\", title=\"Percent of all interactions\", axis=alt.Axis(format=\"%\"), scale=alt.Scale(domain=[0,1])),\n",
    "    y = alt.Y(\"username\", title=None),\n",
    "    color = alt.Color(\"variable:N\", title=\"Interaction type\", sort=\"-x\", legend=alt.Legend(orient='bottom')),\n",
    "    tooltip = [\n",
    "        alt.Tooltip('value:Q', title=\"Percent\", format=\".2%\"),\n",
    "        alt.Tooltip('variable:N', title=\"Interaction\")\n",
    "    ]\n",
    ").properties(\n",
    "    width=800,\n",
    "    height=400\n",
    ").configure_axis(\n",
    "    titleFontSize=15,\n",
    "    labelFontSize=15\n",
    ").configure_legend(\n",
    "    titleFontSize=15,\n",
    "    labelFontSize=16\n",
    ").configure_title(\n",
    "    fontSize=20,\n",
    ")"
   ]
  },
  {
   "cell_type": "code",
   "execution_count": null,
   "metadata": {},
   "outputs": [],
   "source": []
  },
  {
   "cell_type": "code",
   "execution_count": null,
   "metadata": {},
   "outputs": [],
   "source": []
  },
  {
   "cell_type": "markdown",
   "metadata": {},
   "source": [
    "# Q3: Artist with the most emojis total for ➡️ ❤️😡😆\n",
    "- Which artist earned the most **love** emojis (total)?\n",
    "- Which artist earned the most **angry** emojis (total)?\n",
    "- Which artist earned the most **haha** emojis (total)?\n"
   ]
  },
  {
   "cell_type": "code",
   "execution_count": null,
   "metadata": {},
   "outputs": [],
   "source": [
    "love_total = stats_df.groupby(\"username\")['loveCount'].sum().to_frame(\"count\").reset_index()\n",
    "angry_total = stats_df.groupby(\"username\")['angryCount'].sum().to_frame(\"count\").reset_index()\n",
    "haha_total = stats_df.groupby(\"username\")['hahaCount'].sum().to_frame(\"count\").reset_index()\n"
   ]
  },
  {
   "cell_type": "markdown",
   "metadata": {},
   "source": [
    "## Q3.1 Total loves"
   ]
  },
  {
   "cell_type": "code",
   "execution_count": null,
   "metadata": {},
   "outputs": [],
   "source": [
    "# Create bar chart\n",
    "bars = alt.Chart(\n",
    "    love_total,\n",
    "    title=\"Total ❤️ for each artist\"\n",
    ").mark_bar(color='forestgreen').encode(\n",
    "    x = alt.X(\"count:Q\", title = \"Total loves\"),\n",
    "    y = alt.Y(\"username:N\", sort=\"-x\", title=None),\n",
    ").properties(\n",
    "    width=700,\n",
    "    height=400\n",
    ")\n",
    "\n",
    "# Add the total number of loves for each artist\n",
    "text = alt.Chart(love_total).mark_text(align='left', fontSize=15).encode(\n",
    "    x = alt.X(\"count:Q\", title = \"Total loves\"),\n",
    "    y = alt.Y(\"username:N\", sort=\"-x\", title=None),\n",
    "    text = alt.Text(\"count:Q\", format=\",\")\n",
    ")\n",
    "\n",
    "# Put them together and configure some aesthetics\n",
    "alt.layer(bars, text).configure_axis(\n",
    "    titleFontSize=15,\n",
    "    labelFontSize=15\n",
    ").configure_title(fontSize=20)"
   ]
  },
  {
   "cell_type": "markdown",
   "metadata": {},
   "source": [
    "## Q3.2 Total Angry"
   ]
  },
  {
   "cell_type": "code",
   "execution_count": null,
   "metadata": {},
   "outputs": [],
   "source": [
    "# Create bar chart\n",
    "bars = alt.Chart(\n",
    "    angry_total,\n",
    "    title=\"Total 😡 for each artist\"\n",
    ").mark_bar(color='red').encode(\n",
    "    x = alt.X(\"count:Q\", title = \"Total angry\"),\n",
    "    y = alt.Y(\"username:N\", sort=\"-x\", title=None),\n",
    ").properties(\n",
    "    width=700,\n",
    "    height=400\n",
    ")\n",
    "\n",
    "# Add the total number of loves for each artist\n",
    "text = alt.Chart(angry_total).mark_text(align='left', fontSize=15).encode(\n",
    "    x = alt.X(\"count:Q\", title = \"Total angry\"),\n",
    "    y = alt.Y(\"username:N\", sort=\"-x\", title=None),\n",
    "    text = alt.Text(\"count:Q\", format=\",\")\n",
    ")\n",
    "\n",
    "# Put them together and configure some aesthetics\n",
    "alt.layer(bars, text).configure_axis(\n",
    "    titleFontSize=15,\n",
    "    labelFontSize=15\n",
    ").configure_title(fontSize=20)"
   ]
  },
  {
   "cell_type": "markdown",
   "metadata": {},
   "source": [
    "## Q3.3 Total haha"
   ]
  },
  {
   "cell_type": "code",
   "execution_count": null,
   "metadata": {},
   "outputs": [],
   "source": [
    "# Create bar chart\n",
    "bars = alt.Chart(\n",
    "    haha_total,\n",
    "    title=\"Total 😆 for each artist\"\n",
    ").mark_bar(color='blue').encode(\n",
    "    x = alt.X(\"count:Q\", title = \"Total haha\"),\n",
    "    y = alt.Y(\"username:N\", sort=\"-x\", title=None),\n",
    ").properties(\n",
    "    width=700,\n",
    "    height=400\n",
    ")\n",
    "\n",
    "# Add the total number of loves for each artist\n",
    "text = alt.Chart(haha_total).mark_text(align='left', fontSize=15).encode(\n",
    "    x = alt.X(\"count:Q\", title = \"Total haha\"),\n",
    "    y = alt.Y(\"username:N\", sort=\"-x\", title=None),\n",
    "    text = alt.Text(\"count:Q\", format=\",\")\n",
    ")\n",
    "\n",
    "# Put them together and configure some aesthetics\n",
    "alt.layer(bars, text).configure_axis(\n",
    "    titleFontSize=15,\n",
    "    labelFontSize=15\n",
    ").configure_title(fontSize=20)"
   ]
  },
  {
   "cell_type": "code",
   "execution_count": null,
   "metadata": {},
   "outputs": [],
   "source": []
  },
  {
   "cell_type": "markdown",
   "metadata": {},
   "source": [
    "# Q4 Artist with the most emojis from a single post ➡️ ❤️😡😆\n",
    "- Which artist earned earned the most **love** in a (single post)?\n",
    "- Which artist earned the most **angry** emojis in a (single post)?\n",
    "- Which artist earned the most **haha** emojis in a (single post)?"
   ]
  },
  {
   "cell_type": "code",
   "execution_count": null,
   "metadata": {},
   "outputs": [],
   "source": [
    "top_count = 10\n",
    "\n",
    "toploved = stats_df.sort_values(\"loveCount\", ascending=False).head(top_count).reset_index(drop=True)\n",
    "topangry = stats_df.sort_values(\"angryCount\", ascending=False).head(top_count).reset_index(drop=True)\n",
    "tophaha = stats_df.sort_values(\"hahaCount\", ascending=False).head(top_count).reset_index(drop=True)"
   ]
  },
  {
   "cell_type": "code",
   "execution_count": null,
   "metadata": {},
   "outputs": [],
   "source": [
    "print(f\"Top {top_count} Loved Posts:\")\n",
    "for rank in range(0, top_count):\n",
    "    print(toploved.iloc[rank].link)"
   ]
  },
  {
   "cell_type": "code",
   "execution_count": null,
   "metadata": {},
   "outputs": [],
   "source": [
    "print(f\"Top {top_count} Angry Posts:\")\n",
    "for rank in range(0, top_count):\n",
    "    print(topangry.iloc[rank].link)"
   ]
  },
  {
   "cell_type": "code",
   "execution_count": null,
   "metadata": {},
   "outputs": [],
   "source": [
    "print(f\"Top {top_count} Haha Posts:\")\n",
    "for rank in range(0, top_count):\n",
    "    print(topangry.iloc[rank].link)"
   ]
  },
  {
   "cell_type": "markdown",
   "metadata": {},
   "source": [
    "## Q4.1 Which artist earned earned the most ❤️ in a (single post)?"
   ]
  },
  {
   "cell_type": "code",
   "execution_count": null,
   "metadata": {
    "scrolled": true
   },
   "outputs": [],
   "source": [
    "alt.Chart(\n",
    "    toploved,\n",
    "    title = \"Top 🔟 ❤️ posts\"\n",
    ").mark_circle(size=100, color='black').encode(\n",
    "    x = alt.X(\"loveCount:Q\"),\n",
    "    y = alt.Y(\"username:N\", sort='-x', title=None),\n",
    "    href = alt.Href(\"link:N\"),\n",
    "    tooltip = [\n",
    "        alt.Tooltip(\"loveCount:Q\", format=\",\")\n",
    "    ]\n",
    ").properties(\n",
    "    width=700,\n",
    "#     height=300\n",
    ").configure_axis(\n",
    "    titleFontSize=15,\n",
    "    labelFontSize=15\n",
    ").configure_title(fontSize=20)"
   ]
  },
  {
   "cell_type": "code",
   "execution_count": null,
   "metadata": {},
   "outputs": [],
   "source": []
  },
  {
   "cell_type": "code",
   "execution_count": null,
   "metadata": {},
   "outputs": [],
   "source": []
  },
  {
   "cell_type": "code",
   "execution_count": null,
   "metadata": {},
   "outputs": [],
   "source": []
  },
  {
   "cell_type": "code",
   "execution_count": null,
   "metadata": {},
   "outputs": [],
   "source": []
  },
  {
   "cell_type": "markdown",
   "metadata": {},
   "source": [
    "## Q4.2 Which artist earned earned the most 😡 in a (single post)?"
   ]
  },
  {
   "cell_type": "code",
   "execution_count": null,
   "metadata": {
    "scrolled": true
   },
   "outputs": [],
   "source": [
    "alt.Chart(\n",
    "    topangry,\n",
    "    title = \"Top 🔟 😡 posts\"\n",
    ").mark_circle(size=100, color='black').encode(\n",
    "    x = alt.X(\"angryCount:Q\"),\n",
    "    y = alt.Y(\"username:N\", sort='-x', title=None),\n",
    "    href = alt.Href(\"link:N\"),\n",
    "    tooltip = [\n",
    "        alt.Tooltip(\"angryCount:Q\", format=\",\")\n",
    "    ]\n",
    ").properties(\n",
    "    width=700,\n",
    "#     height=300\n",
    ").configure_axis(\n",
    "    titleFontSize=15,\n",
    "    labelFontSize=15\n",
    ").configure_title(fontSize=20)"
   ]
  },
  {
   "cell_type": "code",
   "execution_count": null,
   "metadata": {},
   "outputs": [],
   "source": []
  },
  {
   "cell_type": "code",
   "execution_count": null,
   "metadata": {},
   "outputs": [],
   "source": []
  },
  {
   "cell_type": "code",
   "execution_count": null,
   "metadata": {},
   "outputs": [],
   "source": []
  },
  {
   "cell_type": "markdown",
   "metadata": {},
   "source": [
    "## Q4.3 Which artist earned earned the most 😆 in a (single post)?"
   ]
  },
  {
   "cell_type": "code",
   "execution_count": null,
   "metadata": {
    "scrolled": true
   },
   "outputs": [],
   "source": [
    "alt.Chart(\n",
    "    tophaha,\n",
    "    title = \"Top 🔟 😆 posts\"\n",
    ").mark_circle(size=100, color='black').encode(\n",
    "    x = alt.X(\"hahaCount:Q\"),\n",
    "    y = alt.Y(\"username:N\", sort='-x', title=None),\n",
    "    href = alt.Href(\"link:N\"),\n",
    "    tooltip = [\n",
    "        alt.Tooltip(\"hahaCount:Q\", format=\",\")\n",
    "    ]\n",
    ").properties(\n",
    "    width=700,\n",
    "#     height=300\n",
    ").configure_axis(\n",
    "    titleFontSize=15,\n",
    "    labelFontSize=15\n",
    ").configure_title(fontSize=20)"
   ]
  },
  {
   "cell_type": "code",
   "execution_count": null,
   "metadata": {},
   "outputs": [],
   "source": []
  },
  {
   "cell_type": "code",
   "execution_count": null,
   "metadata": {},
   "outputs": [],
   "source": []
  },
  {
   "cell_type": "code",
   "execution_count": null,
   "metadata": {},
   "outputs": [],
   "source": []
  },
  {
   "cell_type": "code",
   "execution_count": null,
   "metadata": {},
   "outputs": [],
   "source": []
  },
  {
   "cell_type": "code",
   "execution_count": null,
   "metadata": {},
   "outputs": [],
   "source": []
  },
  {
   "cell_type": "code",
   "execution_count": null,
   "metadata": {},
   "outputs": [],
   "source": []
  },
  {
   "cell_type": "code",
   "execution_count": null,
   "metadata": {},
   "outputs": [],
   "source": []
  },
  {
   "cell_type": "code",
   "execution_count": null,
   "metadata": {},
   "outputs": [],
   "source": [
    "pd.DataFrame().divide()"
   ]
  },
  {
   "cell_type": "code",
   "execution_count": null,
   "metadata": {},
   "outputs": [],
   "source": [
    "alt.Chart(top3angry).mark_bar"
   ]
  },
  {
   "cell_type": "code",
   "execution_count": null,
   "metadata": {},
   "outputs": [],
   "source": [
    "print(stats_df.iloc[406].link)"
   ]
  },
  {
   "cell_type": "code",
   "execution_count": null,
   "metadata": {},
   "outputs": [],
   "source": [
    "post_objs[0].post_object.keys()"
   ]
  },
  {
   "cell_type": "code",
   "execution_count": null,
   "metadata": {},
   "outputs": [],
   "source": [
    "post_objs[0].post_object.keys()"
   ]
  },
  {
   "cell_type": "code",
   "execution_count": null,
   "metadata": {},
   "outputs": [],
   "source": [
    "post_objs[0].post_object['history']"
   ]
  },
  {
   "cell_type": "code",
   "execution_count": null,
   "metadata": {},
   "outputs": [],
   "source": [
    "stats_df.columns"
   ]
  },
  {
   "cell_type": "code",
   "execution_count": null,
   "metadata": {},
   "outputs": [],
   "source": [
    "most_loves = stats_df.groupby(\"username\")['loveCount'].sum().to_frame(\"count\").reset_index()\n",
    "most_angry = stats_df.groupby(\"username\")['angryCount'].sum().to_frame(\"count\").reset_index()"
   ]
  },
  {
   "cell_type": "code",
   "execution_count": null,
   "metadata": {},
   "outputs": [],
   "source": [
    "alt.Chart(most_angry).mark_bar().encode(\n",
    "    x = alt.X(\"count:Q\"),\n",
    "    y = alt.Y(\"username\", sort = \"-x\")\n",
    ")"
   ]
  },
  {
   "cell_type": "code",
   "execution_count": null,
   "metadata": {},
   "outputs": [],
   "source": [
    "alt.Chart(most_loves).mark_bar().encode(\n",
    "    x = alt.X(\"count:Q\"),\n",
    "    y = alt.Y(\"username\", sort = \"-x\")\n",
    ")"
   ]
  },
  {
   "cell_type": "code",
   "execution_count": null,
   "metadata": {},
   "outputs": [],
   "source": []
  },
  {
   "cell_type": "code",
   "execution_count": null,
   "metadata": {},
   "outputs": [],
   "source": []
  },
  {
   "cell_type": "code",
   "execution_count": null,
   "metadata": {},
   "outputs": [],
   "source": []
  },
  {
   "cell_type": "code",
   "execution_count": null,
   "metadata": {
    "scrolled": true
   },
   "outputs": [],
   "source": [
    "for post in posts:\n",
    "    fb_post = FbIgPost(post)\n",
    "    print(fb_post.get_link_to_post())"
   ]
  },
  {
   "cell_type": "code",
   "execution_count": null,
   "metadata": {},
   "outputs": [],
   "source": []
  },
  {
   "cell_type": "code",
   "execution_count": null,
   "metadata": {},
   "outputs": [],
   "source": []
  },
  {
   "cell_type": "code",
   "execution_count": null,
   "metadata": {},
   "outputs": [],
   "source": [
    "stats_df['pd_date'] = pd.to_datetime(stats_df.date)"
   ]
  },
  {
   "cell_type": "code",
   "execution_count": null,
   "metadata": {},
   "outputs": [],
   "source": [
    "stats_df"
   ]
  },
  {
   "cell_type": "code",
   "execution_count": null,
   "metadata": {},
   "outputs": [],
   "source": [
    "max_likes = stats_df.groupby(['username'])['likeCount'].max().to_frame(\"count\").reset_index()\n",
    "max_likes[\"type\"] = \"likes\"\n",
    "\n",
    "mean_likes = stats_df.groupby(['username'])['likeCount'].mean().to_frame(\"count\").reset_index()\n",
    "mean_likes[\"type\"] = \"likes\"\n",
    "\n",
    "max_comments = stats_df.groupby(['username'])['commentCount'].max().to_frame(\"count\").reset_index()\n",
    "max_comments[\"type\"] = \"comments\"\n",
    "\n",
    "mean_comments = stats_df.groupby(['username'])['commentCount'].mean().to_frame(\"count\").reset_index()\n",
    "mean_comments[\"type\"] = \"comments\""
   ]
  },
  {
   "cell_type": "code",
   "execution_count": null,
   "metadata": {},
   "outputs": [],
   "source": [
    "post.get_link_to_post()"
   ]
  },
  {
   "cell_type": "code",
   "execution_count": null,
   "metadata": {},
   "outputs": [],
   "source": [
    "max_mean_df = pd.concat([\n",
    "    max_likes,\n",
    "    mean_likes,\n",
    "    max_comments,\n",
    "    mean_comments\n",
    "])"
   ]
  },
  {
   "cell_type": "code",
   "execution_count": null,
   "metadata": {
    "scrolled": true
   },
   "outputs": [],
   "source": [
    "max_mean_df"
   ]
  },
  {
   "cell_type": "code",
   "execution_count": null,
   "metadata": {
    "scrolled": true
   },
   "outputs": [],
   "source": [
    "stats_df"
   ]
  },
  {
   "cell_type": "code",
   "execution_count": null,
   "metadata": {
    "scrolled": true
   },
   "outputs": [],
   "source": [
    "stats_df.sum()"
   ]
  },
  {
   "cell_type": "code",
   "execution_count": null,
   "metadata": {},
   "outputs": [],
   "source": [
    "bars = alt.Chart(stats_df, title=\"Single Most Liked Post per Artist\").mark_bar().encode(\n",
    "    x = alt.X(\"max(likeCount):Q\"),\n",
    "    y = alt.Y(\n",
    "        \"username:N\",\n",
    "        axis = alt.Axis(\n",
    "            title = None),\n",
    "        sort=\"-x\"\n",
    "    ),\n",
    "#     color = alt.Color(\n",
    "#         \"max(likeCount):N\",\n",
    "#         legend=None\n",
    "#     ),\n",
    "    href=\"link:N\"\n",
    ").properties(width=600, height=500)\n",
    "\n",
    "text = alt.Chart(stats_df).mark_text(dx=30, fontSize=16).encode(\n",
    "    x = alt.X(\"max(likeCount):Q\"),\n",
    "    y = alt.Y(\n",
    "        \"username:N\",\n",
    "        axis = alt.Axis(\n",
    "            title = None),\n",
    "        sort=\"-x\"\n",
    "    ),\n",
    "    text = alt.Text(\n",
    "        \"max(likeCount):N\",\n",
    "        format = \",\"\n",
    "    )\n",
    ").properties(width=600, height=500)\n",
    "\n",
    "\n",
    "alt.layer(bars,text).configure_axis(\n",
    "    labelFontSize=16,\n",
    "    titleFontSize=16\n",
    ").configure_title(fontSize=18)"
   ]
  },
  {
   "cell_type": "code",
   "execution_count": null,
   "metadata": {},
   "outputs": [],
   "source": [
    "\n",
    "alt.Chart(stats_df).mark_bar().encode(\n",
    "    y = alt.Y(\"username:N\", sort=\"-x\"),\n",
    "    x = alt.X(\"max(likeCount):Q\"),\n",
    "    color = alt.Color(\"username:N\", legend=None)\n",
    ")"
   ]
  },
  {
   "cell_type": "code",
   "execution_count": null,
   "metadata": {},
   "outputs": [],
   "source": [
    "\n",
    "alt.Chart(stats_df).mark_bar().encode(\n",
    "    y = alt.Y(\"username:N\", sort=\"-x\"),\n",
    "    x = alt.X(\"mean(likeCount):Q\"),\n",
    "    color = alt.Color(\"username:N\", legend=None)\n",
    ")"
   ]
  },
  {
   "cell_type": "code",
   "execution_count": null,
   "metadata": {},
   "outputs": [],
   "source": [
    "max_likes_per_user = stats_df.groupby([\"username\"])[\"likeCount\"].max().to_frame(\"max_likes\").reset_index()\n",
    "max_likes_per_user"
   ]
  },
  {
   "cell_type": "code",
   "execution_count": null,
   "metadata": {},
   "outputs": [],
   "source": [
    "num_posts = Counter(stats_df[\"username\"])"
   ]
  },
  {
   "cell_type": "code",
   "execution_count": null,
   "metadata": {},
   "outputs": [],
   "source": [
    "num_posts_df = pd.DataFrame.from_dict(num_posts,orient='index').reset_index().rename(columns={0:\"num_posts\", \"index\":'username'})"
   ]
  },
  {
   "cell_type": "code",
   "execution_count": null,
   "metadata": {},
   "outputs": [],
   "source": [
    "num_posts_df"
   ]
  },
  {
   "cell_type": "code",
   "execution_count": null,
   "metadata": {},
   "outputs": [],
   "source": [
    "merged = max_likes_per_user.merge(num_posts_df, on= \"username\")#.melt(id_vars=\"username\")"
   ]
  },
  {
   "cell_type": "code",
   "execution_count": null,
   "metadata": {
    "scrolled": true
   },
   "outputs": [],
   "source": [
    "merged"
   ]
  },
  {
   "cell_type": "code",
   "execution_count": null,
   "metadata": {},
   "outputs": [],
   "source": [
    "alt.Chart(merged).mark_point().encode(\n",
    "    x = alt.X(\"max_likes:Q\"),\n",
    "    y = alt.Y(\"num_posts:Q\")\n",
    ")"
   ]
  },
  {
   "cell_type": "code",
   "execution_count": null,
   "metadata": {},
   "outputs": [],
   "source": []
  },
  {
   "cell_type": "code",
   "execution_count": null,
   "metadata": {},
   "outputs": [],
   "source": [
    "stats_df.query()"
   ]
  },
  {
   "cell_type": "code",
   "execution_count": null,
   "metadata": {},
   "outputs": [],
   "source": [
    "post.post_object[\"date\"]"
   ]
  },
  {
   "cell_type": "code",
   "execution_count": null,
   "metadata": {},
   "outputs": [],
   "source": [
    "stats_df['date_str'] = (stats_df.pd_date.dt.year).astype(str) + \"_\" + (stats_df.pd_date.dt.month).astype(str)"
   ]
  },
  {
   "cell_type": "code",
   "execution_count": null,
   "metadata": {},
   "outputs": [],
   "source": [
    "stats_df"
   ]
  },
  {
   "cell_type": "code",
   "execution_count": null,
   "metadata": {},
   "outputs": [],
   "source": [
    "mean_stats_df = stats_df.groupby([\"username\",\"date_str\"])[\"likeCount\"].mean().reset_index()"
   ]
  },
  {
   "cell_type": "code",
   "execution_count": null,
   "metadata": {},
   "outputs": [],
   "source": [
    "alt.Chart(stats_df).mark_point().encode(\n",
    "    x = alt.X(\"pd_date:T\"),\n",
    "    y = alt.Y(\"likeCount:Q\", scale=alt.Scale(type='log')),\n",
    "    color = alt.Color(\"username:N\"),\n",
    "    shape = alt.Shape(\"username:N\"),\n",
    "    tooltip = [\n",
    "        alt.Tooltip('username:N', title=\"User\"),\n",
    "        alt.Tooltip('pd_date:T', title=\"Date\", format=\"%b %d\"),\n",
    "        alt.Tooltip('likeCount:N', title=\"# Likes\", format=\",\"),\n",
    "    ]\n",
    ").properties(\n",
    "    width=700,\n",
    "    height=500\n",
    ").configure_axis(\n",
    "    titleFontSize=15,\n",
    "    labelFontSize=15\n",
    ")"
   ]
  },
  {
   "cell_type": "code",
   "execution_count": null,
   "metadata": {},
   "outputs": [],
   "source": [
    "mean_stats_df"
   ]
  },
  {
   "cell_type": "code",
   "execution_count": null,
   "metadata": {},
   "outputs": [],
   "source": [
    "text_df = pd.DataFrame.from_records(text_data)\n",
    "text_df"
   ]
  },
  {
   "cell_type": "code",
   "execution_count": null,
   "metadata": {},
   "outputs": [],
   "source": [
    "post_type_counts = text_df.post_type.value_counts().to_frame(\"count\").reset_index().rename(\n",
    "        columns={\"index\": \"post_type\"}\n",
    "    )"
   ]
  },
  {
   "cell_type": "code",
   "execution_count": null,
   "metadata": {},
   "outputs": [],
   "source": [
    "post_type_counts['percentage'] = (post_type_counts['count'] / len(posts)) * 100\n",
    "post_type_counts['proportion'] = post_type_counts['count'] / len(posts)\n",
    "post_type_counts"
   ]
  },
  {
   "cell_type": "code",
   "execution_count": null,
   "metadata": {},
   "outputs": [],
   "source": [
    "bars = alt.Chart(post_type_counts, title=\"Post Type Breakdown\").mark_bar().encode(\n",
    "    x = alt.X(\"count:Q\"),\n",
    "    y = alt.Y(\n",
    "        \"post_type:N\",\n",
    "        axis = alt.Axis(\n",
    "            title = None),\n",
    "        sort=\"-x\"\n",
    "    ),\n",
    "    color = alt.Color(\n",
    "        \"post_type:N\",\n",
    "        legend=None\n",
    "    ),\n",
    "    tooltip = [\n",
    "        alt.Tooltip(\"post_type:N\", title = \"Post Type\"),\n",
    "        alt.Tooltip(\"count:Q\", title = \"# of Posts\"),\n",
    "        alt.Tooltip(\"percentage:Q\", title = \"% of Posts\", format=\".2f\"),\n",
    "    ]\n",
    ").properties(width=600,height=200)\n",
    "\n",
    "text = alt.Chart(post_type_counts).mark_text(dx=30, fontSize=16).encode(\n",
    "    x = alt.X(\"count:Q\"),\n",
    "    y = alt.Y(\n",
    "        \"post_type:N\",\n",
    "        axis = alt.Axis(\n",
    "            title = None),\n",
    "        sort=\"-x\"\n",
    "    ),\n",
    "    text = alt.Text(\n",
    "        \"proportion:N\",\n",
    "        format = \".2%\"\n",
    "    )\n",
    ").properties(width=600)\n",
    "\n",
    "\n",
    "alt.layer(bars,text).configure_axis(\n",
    "    labelFontSize=16,\n",
    "    titleFontSize=16\n",
    ").configure_title(fontSize=18)"
   ]
  },
  {
   "cell_type": "code",
   "execution_count": null,
   "metadata": {},
   "outputs": [],
   "source": []
  },
  {
   "cell_type": "markdown",
   "metadata": {},
   "source": [
    "### Clean text to get word counts..."
   ]
  },
  {
   "cell_type": "code",
   "execution_count": null,
   "metadata": {},
   "outputs": [],
   "source": [
    "for post in text_df.text:\n",
    "    print(post, \"\\n\")\n",
    "    print(\"-\"*50)\n",
    "    "
   ]
  },
  {
   "cell_type": "code",
   "execution_count": null,
   "metadata": {},
   "outputs": [],
   "source": [
    "text_df['clean_text'] = text_df['text'].map(clean_text)"
   ]
  },
  {
   "cell_type": "code",
   "execution_count": null,
   "metadata": {},
   "outputs": [],
   "source": [
    "for post in text_df.clean_text:\n",
    "    print(post, \"\\n\")\n",
    "    print(\"-\"*50)"
   ]
  },
  {
   "cell_type": "code",
   "execution_count": null,
   "metadata": {},
   "outputs": [],
   "source": []
  },
  {
   "cell_type": "code",
   "execution_count": null,
   "metadata": {},
   "outputs": [],
   "source": [
    "user_word_counter = defaultdict(Counter)\n",
    "\n",
    "for idx, row in text_df.iterrows():\n",
    "    user = row['username']\n",
    "    clean_text = row['clean_text'].split()\n",
    "    \n",
    "    for word in clean_text:\n",
    "        if word not in s_words:\n",
    "            user_word_counter[user][word] += 1"
   ]
  },
  {
   "cell_type": "code",
   "execution_count": null,
   "metadata": {},
   "outputs": [],
   "source": [
    "user_word_count_data = []\n",
    "\n",
    "for user, data in user_word_counter.items():\n",
    "    \n",
    "    for word, count in data.items():\n",
    "        user_word_count_data.append({\n",
    "            \"user\" : user,\n",
    "            \"word\" : word,\n",
    "            \"count\" : count\n",
    "        })"
   ]
  },
  {
   "cell_type": "code",
   "execution_count": null,
   "metadata": {},
   "outputs": [],
   "source": [
    "user_word_count_df = pd.DataFrame.from_records(user_word_count_data)\n",
    "user_word_count_df"
   ]
  },
  {
   "cell_type": "code",
   "execution_count": null,
   "metadata": {
    "scrolled": false
   },
   "outputs": [],
   "source": [
    "hover = alt.selection_single(\n",
    "    on='mouseover',  # select on mouseover\n",
    "    nearest=True,    # select nearest point to mouse cursor\n",
    "    empty='none'     # empty selection should match nothing\n",
    ")\n",
    "\n",
    "click = alt.selection_multi(\n",
    "    empty='none' # empty selection matches no points\n",
    ")\n",
    "\n",
    "\n",
    "plot = alt.Chart(\n",
    "    title=\"Words Most-commonly Used by an Artist\"\n",
    ").mark_circle(size=50, opacity=.5).encode(\n",
    "    x = alt.X(\n",
    "        \"user:N\", title = None,\n",
    "        axis = alt.Axis(labelAngle=45)\n",
    "    ),\n",
    "    y = alt.Y(\"count:Q\"),\n",
    ")\n",
    "\n",
    "base = plot.transform_filter(\n",
    "    hover | click # filter to points in either selection\n",
    ")\n",
    "\n",
    "\n",
    "alt.layer(\n",
    "    plot.add_selection(hover).add_selection(click),\n",
    "    base.mark_point(size=100, stroke='firebrick', strokeWidth=2),\n",
    "    base.mark_text(dx=4, dy=-8, align='left', stroke='white', strokeWidth=3, fontSize=15).encode(text='word:N'),\n",
    "    base.mark_text(dx=4, dy=-8, align='left', fontSize=15).encode(text='word:N'),\n",
    "    data=user_word_count_df\n",
    ").properties(\n",
    "    width=800,\n",
    "    height=450\n",
    ").configure_axis(\n",
    "    labelFontSize=15,\n",
    "    titleFontSize=15\n",
    ").configure_title(fontSize=18)\n"
   ]
  },
  {
   "cell_type": "code",
   "execution_count": null,
   "metadata": {},
   "outputs": [],
   "source": []
  },
  {
   "cell_type": "code",
   "execution_count": null,
   "metadata": {},
   "outputs": [],
   "source": []
  },
  {
   "cell_type": "code",
   "execution_count": null,
   "metadata": {},
   "outputs": [],
   "source": []
  },
  {
   "cell_type": "code",
   "execution_count": null,
   "metadata": {},
   "outputs": [],
   "source": []
  }
 ],
 "metadata": {
  "kernelspec": {
   "display_name": "Python 3",
   "language": "python",
   "name": "python3"
  }
 },
 "nbformat": 4,
 "nbformat_minor": 2
}
